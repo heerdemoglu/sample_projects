{
 "cells": [
  {
   "cell_type": "markdown",
   "metadata": {},
   "source": [
    "# EEE 443 - Final Project - Image Captioning:\n",
    "\n",
    "## Group 10:\n",
    "\n",
    "Ayhan Okuyan, Baris Akcin, Emre Donmez, Hasan Emre Erdemoglu, Ruzgar Eserol, Suleyman Taylan Topaloglu\n",
    "\n",
    "### Image Downloader: (Part 1/3)\n",
    "\n",
    "1. Import Transfer Learning Models and do the encoding using these models, (Intricasies will be explained in the report).\n",
    "2. Export necessary output to be used in the continuing notebooks.\n",
    "\n",
    "----------------------------------------------------------------------------------------------------------------------------------------------------------------------------------------------"
   ]
  },
  {
   "cell_type": "code",
   "execution_count": 2,
   "metadata": {},
   "outputs": [
    {
     "name": "stdout",
     "output_type": "stream",
     "text": [
      "C:\\Users\\heerd\\Desktop\\Final Project\n"
     ]
    }
   ],
   "source": [
    "import os\n",
    "# See the directories construct directories if needed:\n",
    "root_dir = os.getcwd()\n",
    "imgs_dir = root_dir + '\\\\images'\n",
    "print(root_dir)\n",
    "\n",
    "if not os.path.exists(imgs_dir):\n",
    "    os.mkdir(imgs_dir)\n"
   ]
  },
  {
   "cell_type": "code",
   "execution_count": 3,
   "metadata": {},
   "outputs": [],
   "source": [
    "import h5py\n",
    "from tqdm import tqdm\n",
    "import requests\n",
    "from PIL import Image\n",
    "def eee443_dataset_read(path):\n",
    "    f = h5py.File(path + '\\\\eee443_project_dataset_train.h5', 'r')\n",
    "    train_cap = f['train_cap']\n",
    "    train_imid = f['train_imid']\n",
    "    train_url = f['train_url']\n",
    "    word_code = f['word_code']\n",
    "    train_ims = None\n",
    "    print('Size of URL list: ', train_url.shape[0])\n",
    "    return train_imid, train_cap, train_url, word_code \n",
    "\n",
    "def download_images(img_dir, train_url):\n",
    "    os.chdir(img_dir)\n",
    "    header = {'User-Agent': 'Mozilla/5.0'} # fool the website to download easily\n",
    "    print('Current working directory set as: ', os.getcwd())\n",
    "    \n",
    "    corrupt_idx = []\n",
    "    for item in tqdm(range(1, len(train_url)+1)):\n",
    "        url = train_url[item-1].decode('utf-8')\n",
    "\n",
    "        # This option is more stable\n",
    "        r = requests.get(url, allow_redirects=True, stream=True)\n",
    "\n",
    "        # If this item exists, do not redo operation just pass to next item.\n",
    "        if os.path.exists(img_dir + '/' + str(item)):\n",
    "            continue\n",
    "\n",
    "        # Log why certain images are gone\n",
    "        #if not r.status_code == 200:\n",
    "            #print('Image: ', item, ' Code: ', r.status_code)\n",
    "    \n",
    "        # When HTTP 200 is achieved write file: - Corrupted file stuck here\n",
    "        if r.status_code == 200:\n",
    "            with open(img_dir + '/' + str(item), 'wb') as f:\n",
    "                for chunk in r.iter_content(1024):\n",
    "                    f.write(chunk)\n",
    "\n",
    "            # Validate image is correct:\n",
    "            try:\n",
    "                img = Image.open(img_dir + '/' + str(item))  # open the image file\n",
    "                img.verify()  # verify that it is, in fact an image\n",
    "            except (IOError, SyntaxError) as e:\n",
    "                print(e) # Print error encountered\n",
    "                corrupt_idx.append(img_dir + '/' + str(item) + '  --- non image')\n",
    "                # Might need to remove the image\n",
    "\n",
    "        #if item % 500 == 0:\n",
    "            #print('At image ' + str(item) + '. Continuing download.')\n",
    "\n",
    "    os.chdir('..')\n",
    "    print('Current working directory set as: ', os.getcwd())\n",
    "\n",
    "    # At the end of output  the process report which indices are removed\n",
    "    with open('removedIms.txt', 'w') as file_handle:\n",
    "        for items in corrupt_idx:\n",
    "            file_handle.write('%s\\n' % items)\n",
    "    return"
   ]
  },
  {
   "cell_type": "code",
   "execution_count": null,
   "metadata": {},
   "outputs": [],
   "source": [
    "# If already downloaded, do not attempt to re-download.\n",
    "if not os.path.exists(imgs_dir)\n",
    "    imid, cap, url, words = eee443_dataset_read(root_dir)\n",
    "    download_images(imgs_dir,url)"
   ]
  },
  {
   "cell_type": "markdown",
   "metadata": {},
   "source": [
    "### Next Steps: \n",
    "In the next step, we will encode the images using inception V3 network."
   ]
  }
 ],
 "metadata": {
  "kernelspec": {
   "display_name": "Python 3",
   "language": "python",
   "name": "python3"
  },
  "language_info": {
   "codemirror_mode": {
    "name": "ipython",
    "version": 3
   },
   "file_extension": ".py",
   "mimetype": "text/x-python",
   "name": "python",
   "nbconvert_exporter": "python",
   "pygments_lexer": "ipython3",
   "version": "3.6.10"
  }
 },
 "nbformat": 4,
 "nbformat_minor": 4
}
